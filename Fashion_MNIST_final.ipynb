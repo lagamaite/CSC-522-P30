{
  "nbformat": 4,
  "nbformat_minor": 0,
  "metadata": {
    "colab": {
      "name": "Fashion MNIST final.ipynb",
      "provenance": [],
      "collapsed_sections": [],
      "include_colab_link": true
    },
    "kernelspec": {
      "name": "python3",
      "display_name": "Python 3"
    },
    "accelerator": "GPU"
  },
  "cells": [
    {
      "cell_type": "markdown",
      "metadata": {
        "id": "view-in-github",
        "colab_type": "text"
      },
      "source": [
        "<a href=\"https://colab.research.google.com/github/lagamaite/CSC-522-P30/blob/main/Fashion_MNIST_final.ipynb\" target=\"_parent\"><img src=\"https://colab.research.google.com/assets/colab-badge.svg\" alt=\"Open In Colab\"/></a>"
      ]
    },
    {
      "cell_type": "code",
      "metadata": {
        "id": "lhtvSV2dWOva"
      },
      "source": [
        "from tensorflow.keras.datasets import fashion_mnist\n",
        "from tensorflow.keras.models import Sequential\n",
        "from tensorflow.keras.utils import to_categorical\n",
        "from tensorflow.keras.layers import Conv2D, MaxPooling2D, Flatten, Dense, Dropout, BatchNormalization\n",
        "from tensorflow.keras.losses import CategoricalCrossentropy, SparseCategoricalCrossentropy\n",
        "from sklearn.model_selection import KFold\n",
        "from tensorflow.keras.callbacks import EarlyStopping, ReduceLROnPlateau, ModelCheckpoint\n",
        "import matplotlib.pyplot as plt1\n",
        "import numpy as np"
      ],
      "execution_count": 1,
      "outputs": []
    },
    {
      "cell_type": "code",
      "metadata": {
        "id": "tOiBXp2vWZp9"
      },
      "source": [
        "def load_fashion_mnist():\n",
        "  (train_images, train_labels), (test_images, test_labels) = fashion_mnist.load_data()\n",
        "  train_images = train_images.reshape((len(train_images), 28, 28, 1))\n",
        "  test_images = test_images.reshape((len(test_images), 28, 28, 1))\n",
        "  train_labels = to_categorical(train_labels)\n",
        "  test_labels = to_categorical(test_labels)\n",
        "  return train_images, train_labels, test_images, test_labels\n",
        "\n",
        "def normalize(train_images, test_images):\n",
        "  x_train = train_images.astype('float32')\n",
        "  x_test = test_images.astype('float32')\n",
        "  x_train /= 255.0\n",
        "  x_test /= 255.0\n",
        "  return x_train, x_test\n",
        "\n",
        "def CNN_model():\n",
        "  model = Sequential()\n",
        "  model.add(Conv2D(32, kernel_size=(3, 3), padding='same', activation='relu', kernel_initializer='he_uniform', input_shape=(28, 28, 1)))\n",
        "  model.add(BatchNormalization())\n",
        "  model.add(Conv2D(64, kernel_size=(3, 3), padding='same', activation='relu', kernel_initializer='he_uniform', input_shape=(28, 28, 1)))\n",
        "  model.add(BatchNormalization())\n",
        "  model.add(Dropout(0.25))\n",
        "  model.add(Conv2D(128, kernel_size=(3, 3), padding='same', activation='relu', kernel_initializer='he_uniform', input_shape=(28, 28, 1)))\n",
        "  model.add(BatchNormalization())\n",
        "  model.add(MaxPooling2D((2, 2)))\n",
        "  model.add(Dropout(0.25))\n",
        "  model.add(Flatten())\n",
        "  model.add(Dense(256, activation='relu'))\n",
        "  model.add(BatchNormalization())\n",
        "  model.add(Dropout(0.3))\n",
        "  model.add(Dense(128, activation='relu'))\n",
        "  model.add(BatchNormalization())\n",
        "  model.add(Dropout(0.3))\n",
        "  model.add(Dense(10, activation='softmax'))\n",
        "  model.compile(optimizer='adam', loss='categorical_crossentropy', metrics=['accuracy'])\n",
        "  return model\n"
      ],
      "execution_count": 7,
      "outputs": []
    },
    {
      "cell_type": "code",
      "metadata": {
        "id": "chdDBk5R7TXW"
      },
      "source": [
        "my_callbacks = [\n",
        "    ReduceLROnPlateau(factor=0.5, patience=3, min_lr=0.00001, verbose=1),\n",
        "    ModelCheckpoint(filepath = 'my_model.h5', \n",
        "    verbose=1, save_best_only=True, save_weights_only=False) \n",
        "    ]"
      ],
      "execution_count": 8,
      "outputs": []
    },
    {
      "cell_type": "code",
      "metadata": {
        "colab": {
          "base_uri": "https://localhost:8080/"
        },
        "id": "uACmhBFKrcJZ",
        "outputId": "81d8ff4c-864a-4e1d-9a3c-77fe9a467efd"
      },
      "source": [
        "train_images, train_labels, test_images, test_labels = load_fashion_mnist()\n",
        "x_train, x_test = normalize(train_images, test_images)\n",
        "cnn = CNN_model()\n",
        "history = cnn.fit(x_train, train_labels, epochs=20, verbose=1, validation_data=(x_test, test_labels), batch_size=64, callbacks=my_callbacks)"
      ],
      "execution_count": 9,
      "outputs": [
        {
          "output_type": "stream",
          "text": [
            "Epoch 1/20\n",
            "938/938 [==============================] - 16s 16ms/step - loss: 0.5585 - accuracy: 0.8060 - val_loss: 0.3216 - val_accuracy: 0.8931\n",
            "\n",
            "Epoch 00001: val_loss improved from inf to 0.32161, saving model to my_model.h5\n",
            "Epoch 2/20\n",
            "938/938 [==============================] - 15s 16ms/step - loss: 0.2765 - accuracy: 0.9021 - val_loss: 0.2559 - val_accuracy: 0.9138\n",
            "\n",
            "Epoch 00002: val_loss improved from 0.32161 to 0.25585, saving model to my_model.h5\n",
            "Epoch 3/20\n",
            "938/938 [==============================] - 15s 16ms/step - loss: 0.2151 - accuracy: 0.9216 - val_loss: 0.3376 - val_accuracy: 0.9045\n",
            "\n",
            "Epoch 00003: val_loss did not improve from 0.25585\n",
            "Epoch 4/20\n",
            "938/938 [==============================] - 15s 15ms/step - loss: 0.1875 - accuracy: 0.9328 - val_loss: 0.3109 - val_accuracy: 0.9162\n",
            "\n",
            "Epoch 00004: val_loss did not improve from 0.25585\n",
            "Epoch 5/20\n",
            "938/938 [==============================] - 15s 16ms/step - loss: 0.1616 - accuracy: 0.9404 - val_loss: 1.0355 - val_accuracy: 0.8844\n",
            "\n",
            "Epoch 00005: ReduceLROnPlateau reducing learning rate to 0.0005000000237487257.\n",
            "\n",
            "Epoch 00005: val_loss did not improve from 0.25585\n",
            "Epoch 6/20\n",
            "938/938 [==============================] - 15s 16ms/step - loss: 0.1257 - accuracy: 0.9540 - val_loss: 0.2489 - val_accuracy: 0.9344\n",
            "\n",
            "Epoch 00006: val_loss improved from 0.25585 to 0.24887, saving model to my_model.h5\n",
            "Epoch 7/20\n",
            "938/938 [==============================] - 15s 16ms/step - loss: 0.1006 - accuracy: 0.9642 - val_loss: 0.6510 - val_accuracy: 0.9094\n",
            "\n",
            "Epoch 00007: val_loss did not improve from 0.24887\n",
            "Epoch 8/20\n",
            "938/938 [==============================] - 15s 16ms/step - loss: 0.0840 - accuracy: 0.9700 - val_loss: 3.7595 - val_accuracy: 0.8299\n",
            "\n",
            "Epoch 00008: val_loss did not improve from 0.24887\n",
            "Epoch 9/20\n",
            "938/938 [==============================] - 15s 16ms/step - loss: 0.0764 - accuracy: 0.9712 - val_loss: 0.2665 - val_accuracy: 0.9326\n",
            "\n",
            "Epoch 00009: ReduceLROnPlateau reducing learning rate to 0.0002500000118743628.\n",
            "\n",
            "Epoch 00009: val_loss did not improve from 0.24887\n",
            "Epoch 10/20\n",
            "938/938 [==============================] - 15s 16ms/step - loss: 0.0545 - accuracy: 0.9807 - val_loss: 0.5232 - val_accuracy: 0.9212\n",
            "\n",
            "Epoch 00010: val_loss did not improve from 0.24887\n",
            "Epoch 11/20\n",
            "938/938 [==============================] - 15s 16ms/step - loss: 0.0427 - accuracy: 0.9847 - val_loss: 0.5317 - val_accuracy: 0.9207\n",
            "\n",
            "Epoch 00011: val_loss did not improve from 0.24887\n",
            "Epoch 12/20\n",
            "938/938 [==============================] - 15s 16ms/step - loss: 0.0420 - accuracy: 0.9854 - val_loss: 3.3661 - val_accuracy: 0.8759\n",
            "\n",
            "Epoch 00012: ReduceLROnPlateau reducing learning rate to 0.0001250000059371814.\n",
            "\n",
            "Epoch 00012: val_loss did not improve from 0.24887\n",
            "Epoch 13/20\n",
            "938/938 [==============================] - 15s 16ms/step - loss: 0.0307 - accuracy: 0.9894 - val_loss: 0.3488 - val_accuracy: 0.9352\n",
            "\n",
            "Epoch 00013: val_loss did not improve from 0.24887\n",
            "Epoch 14/20\n",
            "938/938 [==============================] - 15s 16ms/step - loss: 0.0260 - accuracy: 0.9913 - val_loss: 0.3253 - val_accuracy: 0.9361\n",
            "\n",
            "Epoch 00014: val_loss did not improve from 0.24887\n",
            "Epoch 15/20\n",
            "938/938 [==============================] - 15s 16ms/step - loss: 0.0247 - accuracy: 0.9912 - val_loss: 0.5040 - val_accuracy: 0.9288\n",
            "\n",
            "Epoch 00015: ReduceLROnPlateau reducing learning rate to 6.25000029685907e-05.\n",
            "\n",
            "Epoch 00015: val_loss did not improve from 0.24887\n",
            "Epoch 16/20\n",
            "938/938 [==============================] - 15s 16ms/step - loss: 0.0243 - accuracy: 0.9917 - val_loss: 0.3658 - val_accuracy: 0.9370\n",
            "\n",
            "Epoch 00016: val_loss did not improve from 0.24887\n",
            "Epoch 17/20\n",
            "938/938 [==============================] - 15s 16ms/step - loss: 0.0211 - accuracy: 0.9928 - val_loss: 0.5077 - val_accuracy: 0.9292\n",
            "\n",
            "Epoch 00017: val_loss did not improve from 0.24887\n",
            "Epoch 18/20\n",
            "938/938 [==============================] - 15s 16ms/step - loss: 0.0196 - accuracy: 0.9935 - val_loss: 0.3816 - val_accuracy: 0.9347\n",
            "\n",
            "Epoch 00018: ReduceLROnPlateau reducing learning rate to 3.125000148429535e-05.\n",
            "\n",
            "Epoch 00018: val_loss did not improve from 0.24887\n",
            "Epoch 19/20\n",
            "938/938 [==============================] - 15s 16ms/step - loss: 0.0189 - accuracy: 0.9940 - val_loss: 0.3486 - val_accuracy: 0.9384\n",
            "\n",
            "Epoch 00019: val_loss did not improve from 0.24887\n",
            "Epoch 20/20\n",
            "938/938 [==============================] - 15s 16ms/step - loss: 0.0174 - accuracy: 0.9940 - val_loss: 0.3449 - val_accuracy: 0.9380\n",
            "\n",
            "Epoch 00020: val_loss did not improve from 0.24887\n"
          ],
          "name": "stdout"
        }
      ]
    },
    {
      "cell_type": "code",
      "metadata": {
        "id": "f7CHLf3g8bds",
        "colab": {
          "base_uri": "https://localhost:8080/",
          "height": 17
        },
        "outputId": "fdc29cc1-53ee-4c71-9486-f247b2aa3099"
      },
      "source": [
        "from google.colab import files\n",
        "files.download('my_model.h5')"
      ],
      "execution_count": 5,
      "outputs": [
        {
          "output_type": "display_data",
          "data": {
            "application/javascript": [
              "\n",
              "    async function download(id, filename, size) {\n",
              "      if (!google.colab.kernel.accessAllowed) {\n",
              "        return;\n",
              "      }\n",
              "      const div = document.createElement('div');\n",
              "      const label = document.createElement('label');\n",
              "      label.textContent = `Downloading \"${filename}\": `;\n",
              "      div.appendChild(label);\n",
              "      const progress = document.createElement('progress');\n",
              "      progress.max = size;\n",
              "      div.appendChild(progress);\n",
              "      document.body.appendChild(div);\n",
              "\n",
              "      const buffers = [];\n",
              "      let downloaded = 0;\n",
              "\n",
              "      const channel = await google.colab.kernel.comms.open(id);\n",
              "      // Send a message to notify the kernel that we're ready.\n",
              "      channel.send({})\n",
              "\n",
              "      for await (const message of channel.messages) {\n",
              "        // Send a message to notify the kernel that we're ready.\n",
              "        channel.send({})\n",
              "        if (message.buffers) {\n",
              "          for (const buffer of message.buffers) {\n",
              "            buffers.push(buffer);\n",
              "            downloaded += buffer.byteLength;\n",
              "            progress.value = downloaded;\n",
              "          }\n",
              "        }\n",
              "      }\n",
              "      const blob = new Blob(buffers, {type: 'application/binary'});\n",
              "      const a = document.createElement('a');\n",
              "      a.href = window.URL.createObjectURL(blob);\n",
              "      a.download = filename;\n",
              "      div.appendChild(a);\n",
              "      a.click();\n",
              "      div.remove();\n",
              "    }\n",
              "  "
            ],
            "text/plain": [
              "<IPython.core.display.Javascript object>"
            ]
          },
          "metadata": {
            "tags": []
          }
        },
        {
          "output_type": "display_data",
          "data": {
            "application/javascript": [
              "download(\"download_ecb486a2-5494-4c97-af45-38695ace070e\", \"my_model.h5\", 78718600)"
            ],
            "text/plain": [
              "<IPython.core.display.Javascript object>"
            ]
          },
          "metadata": {
            "tags": []
          }
        }
      ]
    },
    {
      "cell_type": "code",
      "metadata": {
        "id": "N9vSPdIAdJSG",
        "colab": {
          "base_uri": "https://localhost:8080/",
          "height": 573
        },
        "outputId": "5c38f60c-6bc3-4d1f-9261-39bba3e5cbc0"
      },
      "source": [
        "plt1.plot(history.history['accuracy'])\n",
        "plt1.plot(history.history['val_accuracy'])\n",
        "plt1.title('model_accuracy')\n",
        "plt1.ylabel('accuracy')\n",
        "plt1.xlabel('epoch')\n",
        "plt1.legend(['train', 'test'], loc='upper left')\n",
        "plt1.show()\n",
        "\n",
        "plt1.plot(history.history['loss'])\n",
        "plt1.plot(history.history['val_loss'])\n",
        "plt1.title('model_loss')\n",
        "plt1.ylabel('loss')\n",
        "plt1.xlabel('epoch')\n",
        "plt1.legend(['train', 'test'], loc='upper left')\n",
        "plt1.show()"
      ],
      "execution_count": 11,
      "outputs": [
        {
          "output_type": "display_data",
          "data": {
            "image/png": "[encoded data removed]",
            "text/plain": [
              "<Figure size 432x288 with 1 Axes>"
            ]
          },
          "metadata": {
            "tags": [],
            "needs_background": "light"
          }
        },
        {
          "output_type": "display_data",
          "data": {
            "image/png": "[encoded data removed]",
            "text/plain": [
              "<Figure size 432x288 with 1 Axes>"
            ]
          },
          "metadata": {
            "tags": [],
            "needs_background": "light"
          }
        }
      ]
    }
  ]
}