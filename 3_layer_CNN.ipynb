{
  "nbformat": 4,
  "nbformat_minor": 0,
  "metadata": {
    "colab": {
      "name": "3-layer-CNN.ipynb",
      "provenance": [],
      "include_colab_link": true
    },
    "kernelspec": {
      "name": "python3",
      "display_name": "Python 3"
    },
    "accelerator": "GPU"
  },
  "cells": [
    {
      "cell_type": "markdown",
      "metadata": {
        "id": "view-in-github",
        "colab_type": "text"
      },
      "source": [
        "<a href=\"https://colab.research.google.com/github/lagamaite/CSC-522-P30/blob/main/3_layer_CNN.ipynb\" target=\"_parent\"><img src=\"https://colab.research.google.com/assets/colab-badge.svg\" alt=\"Open In Colab\"/></a>"
      ]
    },
    {
      "cell_type": "code",
      "metadata": {
        "id": "lhtvSV2dWOva",
        "colab": {
          "base_uri": "https://localhost:8080/",
          "height": 105
        },
        "outputId": "04dd74e4-1579-4d69-ed7b-8cf6fa517de3"
      },
      "source": [
        "%tensorflow_version 2.x\n",
        "\n",
        "import tensorflow.compat.v1 as tf\n",
        "tf.disable_v2_behavior()\n",
        "\n",
        "from tensorflow import keras\n",
        "import matplotlib.pyplot as plt1\n",
        "import numpy\n"
      ],
      "execution_count": null,
      "outputs": [
        {
          "output_type": "stream",
          "text": [
            "TensorFlow 2.x selected.\n",
            "WARNING:tensorflow:From /tensorflow-2.1.0/python3.6/tensorflow_core/python/compat/v2_compat.py:88: disable_resource_variables (from tensorflow.python.ops.variable_scope) is deprecated and will be removed in a future version.\n",
            "Instructions for updating:\n",
            "non-resource variables are not supported in the long term\n"
          ],
          "name": "stdout"
        }
      ]
    },
    {
      "cell_type": "code",
      "metadata": {
        "id": "tOiBXp2vWZp9"
      },
      "source": [
        "fashion_mnist = keras.datasets.fashion_mnist\n",
        "(train_images, train_labels), (test_images, test_labels) = fashion_mnist.load_data()"
      ],
      "execution_count": null,
      "outputs": []
    },
    {
      "cell_type": "code",
      "metadata": {
        "id": "azr8GPK0Wcp1"
      },
      "source": [
        "train_images = keras.utils.normalize(train_images)\n",
        "test_images = keras.utils.normalize(test_images)"
      ],
      "execution_count": null,
      "outputs": []
    },
    {
      "cell_type": "code",
      "metadata": {
        "id": "ZUObcTlTWecT",
        "colab": {
          "base_uri": "https://localhost:8080/",
          "height": 1000
        },
        "outputId": "90725582-4f5f-410e-ecbd-946820161624"
      },
      "source": [
        "neurons = [3,7,64,124,256,512]\n",
        "accuracy_0 = []\n",
        "# 3-layer NN\n",
        "def create_model(neuron):\n",
        "  model = keras.Sequential([\n",
        "      keras.layers.Flatten(input_shape=(28,28)),\n",
        "      keras.layers.Dense(neuron, activation = \"relu\"),\n",
        "      keras.layers.Dense(10, activation = \"softmax\")  ])\n",
        "  model.compile(optimizer = 'adam', loss = tf.keras.losses.SparseCategoricalCrossentropy(from_logits = True), metrics = ['accuracy']) \n",
        "  return model\n",
        "  \n",
        "  \n",
        "for n in neurons:\n",
        "  model = create_model(n)\n",
        "         \n",
        "  model.fit(train_images,train_labels,epochs = 10)\n",
        "      \n",
        "  test_loss, test_acc = model.evaluate(test_images,  test_labels, verbose=2)\n",
        "      \n",
        "  accuracy_0.append(test_acc)\n",
        "      \n"
      ],
      "execution_count": null,
      "outputs": [
        {
          "output_type": "stream",
          "text": [
            "Train on 60000 samples\n",
            "Epoch 1/10\n",
            "60000/60000 [==============================] - 5s 76us/sample - loss: 1.9592 - acc: 0.5256\n",
            "Epoch 2/10\n",
            "60000/60000 [==============================] - 4s 75us/sample - loss: 1.8358 - acc: 0.6456\n",
            "Epoch 3/10\n",
            "60000/60000 [==============================] - 5s 76us/sample - loss: 1.7724 - acc: 0.7125\n",
            "Epoch 4/10\n",
            "60000/60000 [==============================] - 4s 71us/sample - loss: 1.7489 - acc: 0.7275\n",
            "Epoch 5/10\n",
            "60000/60000 [==============================] - 4s 72us/sample - loss: 1.7391 - acc: 0.7347\n",
            "Epoch 6/10\n",
            "60000/60000 [==============================] - 5s 76us/sample - loss: 1.7326 - acc: 0.7388\n",
            "Epoch 7/10\n",
            "60000/60000 [==============================] - 4s 73us/sample - loss: 1.7275 - acc: 0.7419\n",
            "Epoch 8/10\n",
            "60000/60000 [==============================] - 4s 72us/sample - loss: 1.7229 - acc: 0.7456\n",
            "Epoch 9/10\n",
            "60000/60000 [==============================] - 4s 73us/sample - loss: 1.7194 - acc: 0.7484\n",
            "Epoch 10/10\n",
            "60000/60000 [==============================] - 4s 75us/sample - loss: 1.7158 - acc: 0.7516\n",
            "10000/10000 - 1s - loss: 1.7255 - acc: 0.7416\n",
            "Train on 60000 samples\n",
            "Epoch 1/10\n",
            "60000/60000 [==============================] - 5s 75us/sample - loss: 1.8660 - acc: 0.6213\n",
            "Epoch 2/10\n",
            "60000/60000 [==============================] - 4s 73us/sample - loss: 1.7032 - acc: 0.7709\n",
            "Epoch 3/10\n",
            "60000/60000 [==============================] - 4s 73us/sample - loss: 1.6860 - acc: 0.7837\n",
            "Epoch 4/10\n",
            "60000/60000 [==============================] - 5s 77us/sample - loss: 1.6783 - acc: 0.7887\n",
            "Epoch 5/10\n",
            "60000/60000 [==============================] - 4s 73us/sample - loss: 1.6734 - acc: 0.7931\n",
            "Epoch 6/10\n",
            "60000/60000 [==============================] - 5s 79us/sample - loss: 1.6700 - acc: 0.7956\n",
            "Epoch 7/10\n",
            "60000/60000 [==============================] - 4s 73us/sample - loss: 1.6675 - acc: 0.7975\n",
            "Epoch 8/10\n",
            "60000/60000 [==============================] - 4s 72us/sample - loss: 1.6652 - acc: 0.8002\n",
            "Epoch 9/10\n",
            "60000/60000 [==============================] - 5s 76us/sample - loss: 1.6630 - acc: 0.8018\n",
            "Epoch 10/10\n",
            "60000/60000 [==============================] - 4s 72us/sample - loss: 1.6617 - acc: 0.8033\n",
            "10000/10000 - 1s - loss: 1.6744 - acc: 0.7900\n",
            "Train on 60000 samples\n",
            "Epoch 1/10\n",
            "60000/60000 [==============================] - 5s 75us/sample - loss: 1.7669 - acc: 0.7079\n",
            "Epoch 2/10\n",
            "60000/60000 [==============================] - 5s 77us/sample - loss: 1.6545 - acc: 0.8116\n",
            "Epoch 3/10\n",
            "60000/60000 [==============================] - 4s 72us/sample - loss: 1.6427 - acc: 0.8216\n",
            "Epoch 4/10\n",
            "60000/60000 [==============================] - 4s 75us/sample - loss: 1.6373 - acc: 0.8263\n",
            "Epoch 5/10\n",
            "60000/60000 [==============================] - 4s 74us/sample - loss: 1.6331 - acc: 0.8299\n",
            "Epoch 6/10\n",
            "60000/60000 [==============================] - 4s 75us/sample - loss: 1.6100 - acc: 0.8542\n",
            "Epoch 7/10\n",
            "60000/60000 [==============================] - 4s 74us/sample - loss: 1.5946 - acc: 0.8691\n",
            "Epoch 8/10\n",
            "60000/60000 [==============================] - 5s 76us/sample - loss: 1.5880 - acc: 0.8763\n",
            "Epoch 9/10\n",
            "60000/60000 [==============================] - 5s 77us/sample - loss: 1.5843 - acc: 0.8794\n",
            "Epoch 10/10\n",
            "60000/60000 [==============================] - 4s 73us/sample - loss: 1.5809 - acc: 0.8824\n",
            "10000/10000 - 1s - loss: 1.5982 - acc: 0.8645\n",
            "Train on 60000 samples\n",
            "Epoch 1/10\n",
            "60000/60000 [==============================] - 5s 77us/sample - loss: 1.6924 - acc: 0.7826\n",
            "Epoch 2/10\n",
            "60000/60000 [==============================] - 4s 74us/sample - loss: 1.6489 - acc: 0.8155\n",
            "Epoch 3/10\n",
            "60000/60000 [==============================] - 5s 77us/sample - loss: 1.6393 - acc: 0.8238\n",
            "Epoch 4/10\n",
            "60000/60000 [==============================] - 4s 74us/sample - loss: 1.6339 - acc: 0.8291\n",
            "Epoch 5/10\n",
            "60000/60000 [==============================] - 5s 78us/sample - loss: 1.6304 - acc: 0.8318\n",
            "Epoch 6/10\n",
            "60000/60000 [==============================] - 4s 73us/sample - loss: 1.6265 - acc: 0.8356\n",
            "Epoch 7/10\n",
            "60000/60000 [==============================] - 4s 74us/sample - loss: 1.6167 - acc: 0.8458\n",
            "Epoch 8/10\n",
            "60000/60000 [==============================] - 5s 76us/sample - loss: 1.5892 - acc: 0.8738\n",
            "Epoch 9/10\n",
            "60000/60000 [==============================] - 4s 73us/sample - loss: 1.5826 - acc: 0.8802\n",
            "Epoch 10/10\n",
            "60000/60000 [==============================] - 4s 75us/sample - loss: 1.5782 - acc: 0.8845\n",
            "10000/10000 - 1s - loss: 1.6006 - acc: 0.8616\n",
            "Train on 60000 samples\n",
            "Epoch 1/10\n",
            "60000/60000 [==============================] - 5s 83us/sample - loss: 1.6614 - acc: 0.8110\n",
            "Epoch 2/10\n",
            "60000/60000 [==============================] - 4s 73us/sample - loss: 1.6127 - acc: 0.8507\n",
            "Epoch 3/10\n",
            "60000/60000 [==============================] - 4s 74us/sample - loss: 1.5995 - acc: 0.8637\n",
            "Epoch 4/10\n",
            "60000/60000 [==============================] - 5s 76us/sample - loss: 1.5923 - acc: 0.8703\n",
            "Epoch 5/10\n",
            "60000/60000 [==============================] - 5s 76us/sample - loss: 1.5859 - acc: 0.8765\n",
            "Epoch 6/10\n",
            "60000/60000 [==============================] - 5s 75us/sample - loss: 1.5822 - acc: 0.8799\n",
            "Epoch 7/10\n",
            "60000/60000 [==============================] - 5s 76us/sample - loss: 1.5789 - acc: 0.8824\n",
            "Epoch 8/10\n",
            "60000/60000 [==============================] - 5s 79us/sample - loss: 1.5750 - acc: 0.8863\n",
            "Epoch 9/10\n",
            "60000/60000 [==============================] - 4s 74us/sample - loss: 1.5725 - acc: 0.8897\n",
            "Epoch 10/10\n",
            "60000/60000 [==============================] - 5s 76us/sample - loss: 1.5692 - acc: 0.8929\n",
            "10000/10000 - 1s - loss: 1.5918 - acc: 0.8698\n",
            "Train on 60000 samples\n",
            "Epoch 1/10\n",
            "60000/60000 [==============================] - 5s 83us/sample - loss: 1.6857 - acc: 0.7818\n",
            "Epoch 2/10\n",
            "60000/60000 [==============================] - 5s 79us/sample - loss: 1.6454 - acc: 0.8171\n",
            "Epoch 3/10\n",
            "60000/60000 [==============================] - 5s 82us/sample - loss: 1.6123 - acc: 0.8500\n",
            "Epoch 4/10\n",
            "60000/60000 [==============================] - 5s 79us/sample - loss: 1.5942 - acc: 0.8676\n",
            "Epoch 5/10\n",
            "60000/60000 [==============================] - 5s 76us/sample - loss: 1.5879 - acc: 0.8740\n",
            "Epoch 6/10\n",
            "60000/60000 [==============================] - 5s 77us/sample - loss: 1.5820 - acc: 0.8799\n",
            "Epoch 7/10\n",
            "60000/60000 [==============================] - 5s 79us/sample - loss: 1.5779 - acc: 0.8832\n",
            "Epoch 8/10\n",
            "60000/60000 [==============================] - 5s 76us/sample - loss: 1.5746 - acc: 0.8871\n",
            "Epoch 9/10\n",
            "60000/60000 [==============================] - 5s 79us/sample - loss: 1.5724 - acc: 0.8887\n",
            "Epoch 10/10\n",
            "60000/60000 [==============================] - 5s 84us/sample - loss: 1.5678 - acc: 0.8939\n",
            "10000/10000 - 1s - loss: 1.5911 - acc: 0.8696\n"
          ],
          "name": "stdout"
        }
      ]
    },
    {
      "cell_type": "code",
      "metadata": {
        "id": "QIQtXZfFY-Ll",
        "colab": {
          "base_uri": "https://localhost:8080/",
          "height": 34
        },
        "outputId": "6092215c-b05e-41c1-f0d0-37af1ee9b089"
      },
      "source": [
        "accuracy_0"
      ],
      "execution_count": null,
      "outputs": [
        {
          "output_type": "execute_result",
          "data": {
            "text/plain": [
              "[0.7416, 0.79, 0.8645, 0.8616, 0.8698, 0.8696]"
            ]
          },
          "metadata": {
            "tags": []
          },
          "execution_count": 44
        }
      ]
    },
    {
      "cell_type": "code",
      "metadata": {
        "id": "Rz-lbU2PWiyd",
        "colab": {
          "base_uri": "https://localhost:8080/",
          "height": 265
        },
        "outputId": "df056618-5691-4a85-8f23-06f8accf7452"
      },
      "source": [
        "neurons_0 = [3,7,64,124,256,512]\n",
        "plt1.plot(neurons_0, accuracy_0)\n",
        "plt1.grid()"
      ],
      "execution_count": null,
      "outputs": [
        {
          "output_type": "display_data",
          "data": {
            "image/png": "[encoded data removed]",
            "text/plain": [
              "<Figure size 432x288 with 1 Axes>"
            ]
          },
          "metadata": {
            "tags": []
          }
        }
      ]
    },
    {
      "cell_type": "code",
      "metadata": {
        "id": "3aW5OFoXfhqe",
        "colab": {
          "base_uri": "https://localhost:8080/",
          "height": 1000
        },
        "outputId": "a2865f82-4f63-4391-f905-de850d366c7e"
      },
      "source": [
        "neurons = [3,7,64,124,256,512]\n",
        "accuracy_1 = []\n",
        "\n",
        "\n",
        "def create_model2(neuron):\n",
        "  model = keras.Sequential([\n",
        "      keras.layers.Flatten(input_shape=(28,28)),\n",
        "      keras.layers.Dense(neuron, activation = \"relu\"),\n",
        "      keras.layers.Dense(neuron, activation = \"relu\"),\n",
        "      keras.layers.Dense(10, activation = \"softmax\")  ])\n",
        "  return model\n",
        "  \n",
        "  \n",
        "for n in neurons:\n",
        "  model = create_model2(n)    \n",
        "  model.compile(optimizer = 'adam', loss = tf.keras.losses.SparseCategoricalCrossentropy(from_logits = True), metrics = ['accuracy'])    \n",
        "  model.fit(train_images,train_labels,epochs = 10)\n",
        "  test_loss, test_acc = model.evaluate(test_images,  test_labels, verbose=2)\n",
        "  accuracy_1.append(test_acc)\n",
        "      "
      ],
      "execution_count": null,
      "outputs": [
        {
          "output_type": "stream",
          "text": [
            "Train on 60000 samples\n",
            "Epoch 1/10\n",
            "60000/60000 [==============================] - 5s 80us/sample - loss: 2.0308 - acc: 0.4549\n",
            "Epoch 2/10\n",
            "60000/60000 [==============================] - 5s 79us/sample - loss: 1.8720 - acc: 0.6068\n",
            "Epoch 3/10\n",
            "60000/60000 [==============================] - 5s 78us/sample - loss: 1.8363 - acc: 0.6406\n",
            "Epoch 4/10\n",
            "60000/60000 [==============================] - 5s 80us/sample - loss: 1.8219 - acc: 0.6482\n",
            "Epoch 5/10\n",
            "60000/60000 [==============================] - 5s 80us/sample - loss: 1.8146 - acc: 0.6520\n",
            "Epoch 6/10\n",
            "60000/60000 [==============================] - 5s 83us/sample - loss: 1.8103 - acc: 0.6548\n",
            "Epoch 7/10\n",
            "60000/60000 [==============================] - 5s 80us/sample - loss: 1.8076 - acc: 0.6562\n",
            "Epoch 8/10\n",
            "60000/60000 [==============================] - 5s 77us/sample - loss: 1.8053 - acc: 0.6580\n",
            "Epoch 9/10\n",
            "60000/60000 [==============================] - 5s 80us/sample - loss: 1.8038 - acc: 0.6590\n",
            "Epoch 10/10\n",
            "60000/60000 [==============================] - 5s 77us/sample - loss: 1.8022 - acc: 0.6604\n",
            "10000/10000 - 1s - loss: 1.8066 - acc: 0.6551\n",
            "Train on 60000 samples\n",
            "Epoch 1/10\n",
            "60000/60000 [==============================] - 5s 83us/sample - loss: 1.9570 - acc: 0.5199\n",
            "Epoch 2/10\n",
            "60000/60000 [==============================] - 5s 80us/sample - loss: 1.8820 - acc: 0.5830\n",
            "Epoch 3/10\n",
            "60000/60000 [==============================] - 5s 78us/sample - loss: 1.8400 - acc: 0.6252\n",
            "Epoch 4/10\n",
            "60000/60000 [==============================] - 5s 79us/sample - loss: 1.7785 - acc: 0.6852\n",
            "Epoch 5/10\n",
            "60000/60000 [==============================] - 5s 81us/sample - loss: 1.7725 - acc: 0.6908\n",
            "Epoch 6/10\n",
            "60000/60000 [==============================] - 5s 78us/sample - loss: 1.7690 - acc: 0.6935\n",
            "Epoch 7/10\n",
            "60000/60000 [==============================] - 5s 81us/sample - loss: 1.7658 - acc: 0.6961\n",
            "Epoch 8/10\n",
            "60000/60000 [==============================] - 5s 82us/sample - loss: 1.7635 - acc: 0.6985\n",
            "Epoch 9/10\n",
            "60000/60000 [==============================] - 5s 78us/sample - loss: 1.7244 - acc: 0.7423\n",
            "Epoch 10/10\n",
            "60000/60000 [==============================] - 5s 80us/sample - loss: 1.6838 - acc: 0.7819\n",
            "10000/10000 - 1s - loss: 1.6894 - acc: 0.7747\n",
            "Train on 60000 samples\n",
            "Epoch 1/10\n",
            "60000/60000 [==============================] - 5s 85us/sample - loss: 1.6987 - acc: 0.7726\n",
            "Epoch 2/10\n",
            "60000/60000 [==============================] - 5s 81us/sample - loss: 1.6144 - acc: 0.8490\n",
            "Epoch 3/10\n",
            "60000/60000 [==============================] - 5s 83us/sample - loss: 1.6019 - acc: 0.8608\n",
            "Epoch 4/10\n",
            "60000/60000 [==============================] - 5s 80us/sample - loss: 1.5953 - acc: 0.8669\n",
            "Epoch 5/10\n",
            "60000/60000 [==============================] - 5s 78us/sample - loss: 1.5913 - acc: 0.8699\n",
            "Epoch 6/10\n",
            "60000/60000 [==============================] - 5s 83us/sample - loss: 1.5879 - acc: 0.8731\n",
            "Epoch 7/10\n",
            "60000/60000 [==============================] - 5s 78us/sample - loss: 1.5833 - acc: 0.8779\n",
            "Epoch 8/10\n",
            "60000/60000 [==============================] - 5s 78us/sample - loss: 1.5811 - acc: 0.8801\n",
            "Epoch 9/10\n",
            "60000/60000 [==============================] - 5s 82us/sample - loss: 1.5779 - acc: 0.8832\n",
            "Epoch 10/10\n",
            "60000/60000 [==============================] - 5s 80us/sample - loss: 1.5760 - acc: 0.8856\n",
            "10000/10000 - 1s - loss: 1.6006 - acc: 0.8598\n",
            "Train on 60000 samples\n",
            "Epoch 1/10\n",
            "60000/60000 [==============================] - 5s 82us/sample - loss: 1.6894 - acc: 0.7779\n",
            "Epoch 2/10\n",
            "60000/60000 [==============================] - 5s 82us/sample - loss: 1.6445 - acc: 0.8177\n",
            "Epoch 3/10\n",
            "60000/60000 [==============================] - 5s 77us/sample - loss: 1.6091 - acc: 0.8526\n",
            "Epoch 4/10\n",
            "60000/60000 [==============================] - 5s 78us/sample - loss: 1.5997 - acc: 0.8614\n",
            "Epoch 5/10\n",
            "60000/60000 [==============================] - 5s 77us/sample - loss: 1.5942 - acc: 0.8665\n",
            "Epoch 6/10\n",
            "60000/60000 [==============================] - 5s 81us/sample - loss: 1.5885 - acc: 0.8727\n",
            "Epoch 7/10\n",
            "60000/60000 [==============================] - 5s 79us/sample - loss: 1.5828 - acc: 0.8783\n",
            "Epoch 8/10\n",
            "60000/60000 [==============================] - 5s 82us/sample - loss: 1.5811 - acc: 0.8795\n",
            "Epoch 9/10\n",
            "60000/60000 [==============================] - 5s 81us/sample - loss: 1.5788 - acc: 0.8824\n",
            "Epoch 10/10\n",
            "60000/60000 [==============================] - 5s 78us/sample - loss: 1.5778 - acc: 0.8830\n",
            "10000/10000 - 1s - loss: 1.5934 - acc: 0.8666\n",
            "Train on 60000 samples\n",
            "Epoch 1/10\n",
            "60000/60000 [==============================] - 5s 90us/sample - loss: 1.6788 - acc: 0.7850\n",
            "Epoch 2/10\n",
            "60000/60000 [==============================] - 5s 78us/sample - loss: 1.6170 - acc: 0.8440\n",
            "Epoch 3/10\n",
            "60000/60000 [==============================] - 5s 81us/sample - loss: 1.6084 - acc: 0.8521\n",
            "Epoch 4/10\n",
            "60000/60000 [==============================] - 5s 82us/sample - loss: 1.5995 - acc: 0.8609\n",
            "Epoch 5/10\n",
            "60000/60000 [==============================] - 5s 79us/sample - loss: 1.5983 - acc: 0.8622\n",
            "Epoch 6/10\n",
            "60000/60000 [==============================] - 5s 81us/sample - loss: 1.5932 - acc: 0.8675\n",
            "Epoch 7/10\n",
            "60000/60000 [==============================] - 5s 80us/sample - loss: 1.5891 - acc: 0.8718\n",
            "Epoch 8/10\n",
            "60000/60000 [==============================] - 5s 82us/sample - loss: 1.5884 - acc: 0.8724\n",
            "Epoch 9/10\n",
            "60000/60000 [==============================] - 5s 79us/sample - loss: 1.5875 - acc: 0.8730\n",
            "Epoch 10/10\n",
            "60000/60000 [==============================] - 5s 81us/sample - loss: 1.5867 - acc: 0.8739\n",
            "10000/10000 - 1s - loss: 1.5988 - acc: 0.8614\n",
            "Train on 60000 samples\n",
            "Epoch 1/10\n",
            "60000/60000 [==============================] - 5s 91us/sample - loss: 1.7047 - acc: 0.7574\n",
            "Epoch 2/10\n",
            "60000/60000 [==============================] - 5s 86us/sample - loss: 1.6593 - acc: 0.8013\n",
            "Epoch 3/10\n",
            "60000/60000 [==============================] - 5s 87us/sample - loss: 1.6355 - acc: 0.8253\n",
            "Epoch 4/10\n",
            "60000/60000 [==============================] - 5s 84us/sample - loss: 1.6193 - acc: 0.8415\n",
            "Epoch 5/10\n",
            "60000/60000 [==============================] - 5s 85us/sample - loss: 1.6135 - acc: 0.8474\n",
            "Epoch 6/10\n",
            "60000/60000 [==============================] - 5s 86us/sample - loss: 1.6110 - acc: 0.8495\n",
            "Epoch 7/10\n",
            "60000/60000 [==============================] - 5s 86us/sample - loss: 1.6074 - acc: 0.8531\n",
            "Epoch 8/10\n",
            "60000/60000 [==============================] - 5s 87us/sample - loss: 1.6048 - acc: 0.8557\n",
            "Epoch 9/10\n",
            "60000/60000 [==============================] - 5s 87us/sample - loss: 1.6053 - acc: 0.8555\n",
            "Epoch 10/10\n",
            "60000/60000 [==============================] - 5s 89us/sample - loss: 1.6036 - acc: 0.8572\n",
            "10000/10000 - 1s - loss: 1.6199 - acc: 0.8415\n"
          ],
          "name": "stdout"
        }
      ]
    },
    {
      "cell_type": "code",
      "metadata": {
        "id": "aJ-bvdwwjH8o",
        "colab": {
          "base_uri": "https://localhost:8080/",
          "height": 34
        },
        "outputId": "0f4b8e68-09a8-4488-ea89-0ce952f58031"
      },
      "source": [
        "accuracy_1"
      ],
      "execution_count": null,
      "outputs": [
        {
          "output_type": "execute_result",
          "data": {
            "text/plain": [
              "[0.6551, 0.7747, 0.8598, 0.8666, 0.8614, 0.8415]"
            ]
          },
          "metadata": {
            "tags": []
          },
          "execution_count": 46
        }
      ]
    },
    {
      "cell_type": "code",
      "metadata": {
        "id": "8D56P6cLjLRp",
        "colab": {
          "base_uri": "https://localhost:8080/",
          "height": 265
        },
        "outputId": "2ac7a22b-2109-4fdf-e192-ae33a4584053"
      },
      "source": [
        "neurons_1 = [3,7,64,124,256,512]\n",
        "plt2.plot(neurons_1, accuracy_1)\n",
        "plt2.grid()"
      ],
      "execution_count": null,
      "outputs": [
        {
          "output_type": "display_data",
          "data": {
            "image/png": "[encoded data removed]",
            "text/plain": [
              "<Figure size 432x288 with 1 Axes>"
            ]
          },
          "metadata": {
            "tags": []
          }
        }
      ]
    },
    {
      "cell_type": "code",
      "metadata": {
        "id": "vNiuslhEqw4X",
        "colab": {
          "base_uri": "https://localhost:8080/",
          "height": 1000
        },
        "outputId": "9c302956-be14-4d7b-8da9-069b89d0e77c"
      },
      "source": [
        "neurons = [[3,7],[7,10],[64,32],[128,64],[256,128],[512,256]]\n",
        "accuracy_2 = []\n",
        "\n",
        "\n",
        "def create_model3(neuron1, neuron2):\n",
        "  model = keras.Sequential([\n",
        "      keras.layers.Flatten(input_shape=(28,28)),\n",
        "      keras.layers.Dense(neuron1, activation = \"relu\"),\n",
        "      keras.layers.Dense(neuron2, activation = \"relu\"),\n",
        "      keras.layers.Dense(10, activation = \"softmax\")  ])\n",
        "  model.compile(optimizer = 'adam', loss = tf.keras.losses.SparseCategoricalCrossentropy(from_logits = True), metrics = ['accuracy']) \n",
        "  return model\n",
        "  \n",
        "  \n",
        "for n in neurons:\n",
        "  model = create_model3(n[0],n[1])       \n",
        "  model.fit(train_images,train_labels,epochs = 10)\n",
        "  test_loss, test_acc = model.evaluate(test_images,  test_labels, verbose=2)\n",
        "  accuracy_2.append(test_acc)"
      ],
      "execution_count": null,
      "outputs": [
        {
          "output_type": "stream",
          "text": [
            "Train on 60000 samples\n",
            "Epoch 1/10\n",
            "60000/60000 [==============================] - 5s 89us/sample - loss: 2.0647 - acc: 0.3985\n",
            "Epoch 2/10\n",
            "60000/60000 [==============================] - 5s 82us/sample - loss: 1.7517 - acc: 0.7373\n",
            "Epoch 3/10\n",
            "60000/60000 [==============================] - 5s 81us/sample - loss: 1.7012 - acc: 0.7797\n",
            "Epoch 4/10\n",
            "60000/60000 [==============================] - 5s 82us/sample - loss: 1.6784 - acc: 0.7966\n",
            "Epoch 5/10\n",
            "60000/60000 [==============================] - 5s 82us/sample - loss: 1.6682 - acc: 0.8024\n",
            "Epoch 6/10\n",
            "60000/60000 [==============================] - 5s 82us/sample - loss: 1.6619 - acc: 0.8075\n",
            "Epoch 7/10\n",
            "60000/60000 [==============================] - 5s 86us/sample - loss: 1.6570 - acc: 0.8114\n",
            "Epoch 8/10\n",
            "60000/60000 [==============================] - 5s 80us/sample - loss: 1.6537 - acc: 0.8136\n",
            "Epoch 9/10\n",
            "60000/60000 [==============================] - 5s 84us/sample - loss: 1.6505 - acc: 0.8166\n",
            "Epoch 10/10\n",
            "60000/60000 [==============================] - 5s 86us/sample - loss: 1.6484 - acc: 0.8178\n",
            "10000/10000 - 1s - loss: 1.6563 - acc: 0.8102\n",
            "Train on 60000 samples\n",
            "Epoch 1/10\n",
            "60000/60000 [==============================] - 5s 87us/sample - loss: 1.8446 - acc: 0.6342\n",
            "Epoch 2/10\n",
            "60000/60000 [==============================] - 5s 83us/sample - loss: 1.7508 - acc: 0.7153\n",
            "Epoch 3/10\n",
            "60000/60000 [==============================] - 5s 81us/sample - loss: 1.7410 - acc: 0.7231\n",
            "Epoch 4/10\n",
            "60000/60000 [==============================] - 5s 80us/sample - loss: 1.7359 - acc: 0.7272\n",
            "Epoch 5/10\n",
            "60000/60000 [==============================] - 5s 81us/sample - loss: 1.7068 - acc: 0.7563\n",
            "Epoch 6/10\n",
            "60000/60000 [==============================] - 5s 81us/sample - loss: 1.6721 - acc: 0.7913\n",
            "Epoch 7/10\n",
            "60000/60000 [==============================] - 5s 81us/sample - loss: 1.6680 - acc: 0.7954\n",
            "Epoch 8/10\n",
            "60000/60000 [==============================] - 5s 84us/sample - loss: 1.6655 - acc: 0.7968\n",
            "Epoch 9/10\n",
            "60000/60000 [==============================] - 5s 82us/sample - loss: 1.6609 - acc: 0.8019\n",
            "Epoch 10/10\n",
            "60000/60000 [==============================] - 5s 85us/sample - loss: 1.6174 - acc: 0.8464\n",
            "10000/10000 - 1s - loss: 1.6293 - acc: 0.8333\n",
            "Train on 60000 samples\n",
            "Epoch 1/10\n",
            "60000/60000 [==============================] - 5s 89us/sample - loss: 1.7200 - acc: 0.7499\n",
            "Epoch 2/10\n",
            "60000/60000 [==============================] - 5s 81us/sample - loss: 1.6219 - acc: 0.8428\n",
            "Epoch 3/10\n",
            "60000/60000 [==============================] - 5s 85us/sample - loss: 1.6077 - acc: 0.8549\n",
            "Epoch 4/10\n",
            "60000/60000 [==============================] - 5s 87us/sample - loss: 1.6010 - acc: 0.8607\n",
            "Epoch 5/10\n",
            "60000/60000 [==============================] - 5s 81us/sample - loss: 1.5940 - acc: 0.8682\n",
            "Epoch 6/10\n",
            "60000/60000 [==============================] - 5s 84us/sample - loss: 1.5897 - acc: 0.8726\n",
            "Epoch 7/10\n",
            "60000/60000 [==============================] - 5s 84us/sample - loss: 1.5875 - acc: 0.8746\n",
            "Epoch 8/10\n",
            "60000/60000 [==============================] - 5s 82us/sample - loss: 1.5835 - acc: 0.8779\n",
            "Epoch 9/10\n",
            "60000/60000 [==============================] - 5s 83us/sample - loss: 1.5814 - acc: 0.8802\n",
            "Epoch 10/10\n",
            "60000/60000 [==============================] - 5s 88us/sample - loss: 1.5781 - acc: 0.8833\n",
            "10000/10000 - 1s - loss: 1.5970 - acc: 0.8632\n",
            "Train on 60000 samples\n",
            "Epoch 1/10\n",
            "60000/60000 [==============================] - 5s 84us/sample - loss: 1.6743 - acc: 0.7952\n",
            "Epoch 2/10\n",
            "60000/60000 [==============================] - 5s 84us/sample - loss: 1.6145 - acc: 0.8485\n",
            "Epoch 3/10\n",
            "60000/60000 [==============================] - 5s 81us/sample - loss: 1.6043 - acc: 0.8575\n",
            "Epoch 4/10\n",
            "60000/60000 [==============================] - 5s 81us/sample - loss: 1.5958 - acc: 0.8662\n",
            "Epoch 5/10\n",
            "60000/60000 [==============================] - 5s 84us/sample - loss: 1.5912 - acc: 0.8703\n",
            "Epoch 6/10\n",
            "60000/60000 [==============================] - 5s 85us/sample - loss: 1.5857 - acc: 0.8762\n",
            "Epoch 7/10\n",
            "60000/60000 [==============================] - 5s 82us/sample - loss: 1.5844 - acc: 0.8769\n",
            "Epoch 8/10\n",
            "60000/60000 [==============================] - 5s 84us/sample - loss: 1.5800 - acc: 0.8816\n",
            "Epoch 9/10\n",
            "60000/60000 [==============================] - 5s 86us/sample - loss: 1.5778 - acc: 0.8832\n",
            "Epoch 10/10\n",
            "60000/60000 [==============================] - 5s 86us/sample - loss: 1.5765 - acc: 0.8841\n",
            "10000/10000 - 1s - loss: 1.5886 - acc: 0.8724\n",
            "Train on 60000 samples\n",
            "Epoch 1/10\n",
            "60000/60000 [==============================] - 6s 92us/sample - loss: 1.6853 - acc: 0.7808\n",
            "Epoch 2/10\n",
            "60000/60000 [==============================] - 5s 84us/sample - loss: 1.6523 - acc: 0.8084\n",
            "Epoch 3/10\n",
            "60000/60000 [==============================] - 5s 86us/sample - loss: 1.6449 - acc: 0.8162\n",
            "Epoch 4/10\n",
            "60000/60000 [==============================] - 5s 85us/sample - loss: 1.6392 - acc: 0.8216\n",
            "Epoch 5/10\n",
            "60000/60000 [==============================] - 5s 85us/sample - loss: 1.6353 - acc: 0.8255\n",
            "Epoch 6/10\n",
            "60000/60000 [==============================] - 5s 87us/sample - loss: 1.6323 - acc: 0.8285\n",
            "Epoch 7/10\n",
            "60000/60000 [==============================] - 5s 88us/sample - loss: 1.6185 - acc: 0.8420\n",
            "Epoch 8/10\n",
            "60000/60000 [==============================] - 5s 84us/sample - loss: 1.5926 - acc: 0.8681\n",
            "Epoch 9/10\n",
            "60000/60000 [==============================] - 5s 87us/sample - loss: 1.5863 - acc: 0.8741\n",
            "Epoch 10/10\n",
            "60000/60000 [==============================] - 5s 86us/sample - loss: 1.5837 - acc: 0.8769\n",
            "10000/10000 - 1s - loss: 1.6086 - acc: 0.8527\n",
            "Train on 60000 samples\n",
            "Epoch 1/10\n",
            "60000/60000 [==============================] - 6s 92us/sample - loss: 1.6847 - acc: 0.7786\n",
            "Epoch 2/10\n",
            "60000/60000 [==============================] - 5s 91us/sample - loss: 1.6585 - acc: 0.8023\n",
            "Epoch 3/10\n",
            "60000/60000 [==============================] - 5s 84us/sample - loss: 1.6524 - acc: 0.8084\n",
            "Epoch 4/10\n",
            "60000/60000 [==============================] - 5s 87us/sample - loss: 1.6399 - acc: 0.8209\n",
            "Epoch 5/10\n",
            "60000/60000 [==============================] - 5s 87us/sample - loss: 1.6110 - acc: 0.8497\n",
            "Epoch 6/10\n",
            "60000/60000 [==============================] - 5s 89us/sample - loss: 1.6034 - acc: 0.8574\n",
            "Epoch 7/10\n",
            "60000/60000 [==============================] - 5s 91us/sample - loss: 1.5994 - acc: 0.8610\n",
            "Epoch 8/10\n",
            "60000/60000 [==============================] - 5s 92us/sample - loss: 1.5969 - acc: 0.8639\n",
            "Epoch 9/10\n",
            "60000/60000 [==============================] - 5s 89us/sample - loss: 1.5939 - acc: 0.8670\n",
            "Epoch 10/10\n",
            "60000/60000 [==============================] - 5s 88us/sample - loss: 1.5954 - acc: 0.8649\n",
            "10000/10000 - 1s - loss: 1.6014 - acc: 0.8595\n"
          ],
          "name": "stdout"
        }
      ]
    },
    {
      "cell_type": "code",
      "metadata": {
        "id": "XVhvvjcDrNRr",
        "colab": {
          "base_uri": "https://localhost:8080/",
          "height": 34
        },
        "outputId": "c94fe0e4-2fc9-4598-b650-b88251a12b34"
      },
      "source": [
        "accuracy_2"
      ],
      "execution_count": null,
      "outputs": [
        {
          "output_type": "execute_result",
          "data": {
            "text/plain": [
              "[0.8102, 0.8333, 0.8632, 0.8724, 0.8527, 0.8595]"
            ]
          },
          "metadata": {
            "tags": []
          },
          "execution_count": 51
        }
      ]
    },
    {
      "cell_type": "code",
      "metadata": {
        "id": "tmAcz7_yrPjJ",
        "colab": {
          "base_uri": "https://localhost:8080/",
          "height": 265
        },
        "outputId": "c813d6c6-ad2b-415b-b537-ac9e9a55e7c9"
      },
      "source": [
        "neurons = [3,7,64,128,256,512]\n",
        "plt.plot(neurons, accuracy_2)\n",
        "plt.grid()"
      ],
      "execution_count": null,
      "outputs": [
        {
          "output_type": "display_data",
          "data": {
            "image/png": "[encoded data removed]",
            "text/plain": [
              "<Figure size 432x288 with 1 Axes>"
            ]
          },
          "metadata": {
            "tags": []
          }
        }
      ]
    }
  ]
}